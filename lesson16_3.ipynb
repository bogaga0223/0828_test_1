{
 "cells": [
  {
   "cell_type": "code",
   "execution_count": 2,
   "metadata": {},
   "outputs": [
    {
     "data": {
      "text/plain": [
       "0    4\n",
       "1    7\n",
       "2   -5\n",
       "3    3\n",
       "Name: 分數, dtype: int64"
      ]
     },
     "execution_count": 2,
     "metadata": {},
     "output_type": "execute_result"
    }
   ],
   "source": [
    "import pandas as pd\n",
    "s1= pd.Series([4,7,-5,3])\n",
    "s1.name=\"分數\"\n",
    "s1"
   ]
  },
  {
   "cell_type": "code",
   "execution_count": 3,
   "metadata": {},
   "outputs": [
    {
     "data": {
      "text/plain": [
       "array([ 4,  7, -5,  3])"
      ]
     },
     "execution_count": 3,
     "metadata": {},
     "output_type": "execute_result"
    }
   ],
   "source": [
    "#Series的property\n",
    "s1.values"
   ]
  },
  {
   "cell_type": "code",
   "execution_count": 4,
   "metadata": {},
   "outputs": [
    {
     "data": {
      "text/plain": [
       "4"
      ]
     },
     "execution_count": 4,
     "metadata": {},
     "output_type": "execute_result"
    }
   ],
   "source": [
    "s1.size"
   ]
  },
  {
   "cell_type": "code",
   "execution_count": 8,
   "metadata": {},
   "outputs": [
    {
     "data": {
      "text/plain": [
       "CH    4\n",
       "EN    7\n",
       "MA   -5\n",
       "Ge    3\n",
       "dtype: int64"
      ]
     },
     "metadata": {},
     "output_type": "display_data"
    },
    {
     "data": {
      "text/plain": [
       "-5"
      ]
     },
     "execution_count": 8,
     "metadata": {},
     "output_type": "execute_result"
    }
   ],
   "source": [
    "s2= pd.Series([4,7,-5,3],index=['CH','EN','MA',\"Ge\"])\n",
    "display(s2)\n",
    "s2['MA']"
   ]
  },
  {
   "cell_type": "code",
   "execution_count": 9,
   "metadata": {},
   "outputs": [
    {
     "data": {
      "text/plain": [
       "CH    89\n",
       "EN    90\n",
       "MA    67\n",
       "Ge    45\n",
       "Name: Chen, dtype: int64"
      ]
     },
     "execution_count": 9,
     "metadata": {},
     "output_type": "execute_result"
    }
   ],
   "source": [
    "s3= pd.Series([89,90,67,45],index=['CH','EN','MA',\"Ge\"])\n",
    "s3.name = 'Chen'\n",
    "s3"
   ]
  },
  {
   "cell_type": "code",
   "execution_count": 10,
   "metadata": {},
   "outputs": [
    {
     "data": {
      "text/plain": [
       "CH    91\n",
       "EN    92\n",
       "MA    69\n",
       "Ge    47\n",
       "Name: Chen, dtype: int64"
      ]
     },
     "execution_count": 10,
     "metadata": {},
     "output_type": "execute_result"
    }
   ],
   "source": [
    "s3+2\n"
   ]
  },
  {
   "cell_type": "code",
   "execution_count": 11,
   "metadata": {},
   "outputs": [
    {
     "data": {
      "text/plain": [
       "(291, 72.75)"
      ]
     },
     "execution_count": 11,
     "metadata": {},
     "output_type": "execute_result"
    }
   ],
   "source": [
    "s3.sum(), s3.mean()"
   ]
  },
  {
   "cell_type": "code",
   "execution_count": 20,
   "metadata": {},
   "outputs": [
    {
     "ename": "TypeError",
     "evalue": "'Figure' object is not callable",
     "output_type": "error",
     "traceback": [
      "\u001b[0;31m---------------------------------------------------------------------------\u001b[0m",
      "\u001b[0;31mTypeError\u001b[0m                                 Traceback (most recent call last)",
      "\u001b[1;32m/workspaces/0828_test_1/lesson16_3.ipynb 儲存格 8\u001b[0m line \u001b[0;36m5\n\u001b[1;32m      <a href='vscode-notebook-cell://codespaces%2Bbookish-pancake-v6q5rw76r66fxwgv/workspaces/0828_test_1/lesson16_3.ipynb#X10sdnNjb2RlLXJlbW90ZQ%3D%3D?line=1'>2</a>\u001b[0m s4 \u001b[39m=\u001b[39m pd\u001b[39m.\u001b[39mSeries({\u001b[39m'\u001b[39m\u001b[39mCH\u001b[39m\u001b[39m'\u001b[39m:\u001b[39m78\u001b[39m, \u001b[39m'\u001b[39m\u001b[39mMA\u001b[39m\u001b[39m'\u001b[39m:\u001b[39m93\u001b[39m, \u001b[39m'\u001b[39m\u001b[39mEN\u001b[39m\u001b[39m'\u001b[39m:\u001b[39m85\u001b[39m, \u001b[39m'\u001b[39m\u001b[39mGE\u001b[39m\u001b[39m'\u001b[39m:\u001b[39m92\u001b[39m})\n\u001b[1;32m      <a href='vscode-notebook-cell://codespaces%2Bbookish-pancake-v6q5rw76r66fxwgv/workspaces/0828_test_1/lesson16_3.ipynb#X10sdnNjb2RlLXJlbW90ZQ%3D%3D?line=2'>3</a>\u001b[0m s4\u001b[39m.\u001b[39mindex, s4\u001b[39m.\u001b[39mvalues\n\u001b[0;32m----> <a href='vscode-notebook-cell://codespaces%2Bbookish-pancake-v6q5rw76r66fxwgv/workspaces/0828_test_1/lesson16_3.ipynb#X10sdnNjb2RlLXJlbW90ZQ%3D%3D?line=4'>5</a>\u001b[0m figure \u001b[39m=\u001b[39m plt\u001b[39m.\u001b[39;49mfigure()\n\u001b[1;32m      <a href='vscode-notebook-cell://codespaces%2Bbookish-pancake-v6q5rw76r66fxwgv/workspaces/0828_test_1/lesson16_3.ipynb#X10sdnNjb2RlLXJlbW90ZQ%3D%3D?line=5'>6</a>\u001b[0m axes \u001b[39m=\u001b[39m figure\u001b[39m.\u001b[39madd_subplot(\u001b[39m1\u001b[39m,\u001b[39m1\u001b[39m,\u001b[39m1\u001b[39m)\n\u001b[1;32m      <a href='vscode-notebook-cell://codespaces%2Bbookish-pancake-v6q5rw76r66fxwgv/workspaces/0828_test_1/lesson16_3.ipynb#X10sdnNjb2RlLXJlbW90ZQ%3D%3D?line=6'>7</a>\u001b[0m axes\u001b[39m.\u001b[39mbar(s4\u001b[39m.\u001b[39mindex,s4\u001b[39m.\u001b[39mvalues)\n",
      "\u001b[0;31mTypeError\u001b[0m: 'Figure' object is not callable"
     ]
    }
   ],
   "source": [
    "import matplotlib.pyplot as plt\n",
    "s4 = pd.Series({'CH':78, 'MA':93, 'EN':85, 'GE':92})\n",
    "s4.index, s4.values\n",
    "\n",
    "figure = plt.figure()\n",
    "axes = figure.add_subplot(1,1,1)\n",
    "axes.bar(s4.index,s4.values)\n",
    "plt.show()\n"
   ]
  }
 ],
 "metadata": {
  "kernelspec": {
   "display_name": "Python 3",
   "language": "python",
   "name": "python3"
  },
  "language_info": {
   "codemirror_mode": {
    "name": "ipython",
    "version": 3
   },
   "file_extension": ".py",
   "mimetype": "text/x-python",
   "name": "python",
   "nbconvert_exporter": "python",
   "pygments_lexer": "ipython3",
   "version": "3.10.13"
  }
 },
 "nbformat": 4,
 "nbformat_minor": 2
}
