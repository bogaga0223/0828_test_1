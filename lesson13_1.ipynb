{
 "cells": [
  {
   "cell_type": "code",
   "execution_count": null,
   "metadata": {},
   "outputs": [],
   "source": [
    "#python內建的資料結構\n",
    "#tuple --> (xxx,xxx,xxx) 不可更改\n",
    "#list --> [xxx,xxx,xxx] 可更改\n",
    "#Dictionary --> {key:value,key:value}\n",
    "#set --> {value,value,value}"
   ]
  }
 ],
 "metadata": {
  "language_info": {
   "name": "python"
  },
  "orig_nbformat": 4
 },
 "nbformat": 4,
 "nbformat_minor": 2
}
