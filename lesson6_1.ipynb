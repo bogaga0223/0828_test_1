{
 "cells": [
  {
   "cell_type": "code",
   "execution_count": 7,
   "metadata": {},
   "outputs": [
    {
     "name": "stdout",
     "output_type": "stream",
     "text": [
      "====game====\n",
      "\n",
      "wrong range\n",
      "total 1 times\n",
      "wrong format\n",
      "total 2 times\n",
      "wrong, total 3 times\n",
      "wrong, total 4 times\n",
      "Correct, the number is: 1\n",
      "total 5 times\n",
      "game over\n"
     ]
    }
   ],
   "source": [
    "min = 1\n",
    "max = 4\n",
    "count = 0\n",
    "import random\n",
    "target = random.randint(min,max)\n",
    "\n",
    "print(\"====game====\\n\")\n",
    "while True:\n",
    "    try:\n",
    "        keyin = int(input(f\"guess number {min}~{max}\"))\n",
    "    except:\n",
    "        print(\"wrong format\")\n",
    "        count +=1\n",
    "        print(f\"total {count} times\")\n",
    "    else:\n",
    "        count +=1\n",
    "        if keyin >= min and keyin <= max:\n",
    "            if keyin == target:\n",
    "                print(f'Correct, the number is: {target}')\n",
    "                print(f\"total {count} times\")\n",
    "                break\n",
    "            else:\n",
    "                print(f\"wrong, total {count} times\")\n",
    "        else:\n",
    "            print(\"wrong range\")\n",
    "            print(f\"total {count} times\")\n",
    "\n",
    "print(\"game over\")"
   ]
  }
 ],
 "metadata": {
  "kernelspec": {
   "display_name": "Python 3",
   "language": "python",
   "name": "python3"
  },
  "language_info": {
   "codemirror_mode": {
    "name": "ipython",
    "version": 3
   },
   "file_extension": ".py",
   "mimetype": "text/x-python",
   "name": "python",
   "nbconvert_exporter": "python",
   "pygments_lexer": "ipython3",
   "version": "3.10.12"
  },
  "orig_nbformat": 4
 },
 "nbformat": 4,
 "nbformat_minor": 2
}
