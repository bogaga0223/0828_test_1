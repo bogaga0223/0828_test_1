{
 "cells": [
  {
   "cell_type": "code",
   "execution_count": 2,
   "metadata": {},
   "outputs": [],
   "source": [
    "class student:\n",
    "    def __init__(self,n,c,e,m): #自訂的初始化\n",
    "        self.name = n\n",
    "        self.chinese = c\n",
    "        self.english = e\n",
    "        self.math = m\n",
    "    "
   ]
  },
  {
   "cell_type": "code",
   "execution_count": 3,
   "metadata": {},
   "outputs": [],
   "source": [
    "def student_info(student):\n",
    "    print(\"name:\",student.name)\n",
    "    print(\"chinese:\",student.chinese)\n",
    "    print(\"english:\",student.english)\n",
    "    print(\"math:\", student.math)"
   ]
  },
  {
   "cell_type": "code",
   "execution_count": 4,
   "metadata": {},
   "outputs": [
    {
     "name": "stdout",
     "output_type": "stream",
     "text": [
      "name: aaa\n",
      "chinese: 78\n",
      "english: 56\n",
      "math: 34\n",
      "======\n",
      "name: bbb\n",
      "chinese: 45\n",
      "english: 76\n",
      "math: 98\n",
      "======\n",
      "name: ccc\n",
      "chinese: 56\n",
      "english: 90\n",
      "math: 76\n",
      "======\n"
     ]
    }
   ],
   "source": [
    "stu1 = student(n=\"aaa\", c=78,e=56,m=34)\n",
    "student_info(stu1)\n",
    "print(\"======\")\n",
    "stu2 = student(n=\"bbb\", c=45,e=76,m=98)\n",
    "student_info(stu2)\n",
    "print(\"======\")\n",
    "stu3 = student(n=\"ccc\", c=56,e=90,m=76)\n",
    "student_info(stu3)\n",
    "print(\"======\")\n",
    "\n"
   ]
  }
 ],
 "metadata": {
  "kernelspec": {
   "display_name": "Python 3",
   "language": "python",
   "name": "python3"
  },
  "language_info": {
   "codemirror_mode": {
    "name": "ipython",
    "version": 3
   },
   "file_extension": ".py",
   "mimetype": "text/x-python",
   "name": "python",
   "nbconvert_exporter": "python",
   "pygments_lexer": "ipython3",
   "version": "3.10.12"
  },
  "orig_nbformat": 4
 },
 "nbformat": 4,
 "nbformat_minor": 2
}
