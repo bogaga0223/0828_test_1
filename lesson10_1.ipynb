{
 "cells": [
  {
   "cell_type": "code",
   "execution_count": 2,
   "metadata": {},
   "outputs": [
    {
     "name": "stdout",
     "output_type": "stream",
     "text": [
      "['姓名', '國文', '英文', '數學', '地理', '歷史']\n",
      "['溫重意', '91', '74', '81', '54', '84']\n",
      "['王梅劭', '62', '76', '89', '75', '64']\n",
      "['蘇婷婷', '63', '87', '86', '55', '50']\n",
      "['王雅慧', '81', '62', '73', '99', '78']\n",
      "['陳樂紫', '70', '59', '58', '59', '76']\n",
      "['鄭琇亞', '58', '99', '87', '81', '69']\n",
      "['李湘婷', '67', '65', '94', '92', '82']\n",
      "['陳得映', '67', '84', '79', '70', '63']\n",
      "['游倫城', '83', '80', '60', '81', '87']\n",
      "['孫火清', '54', '66', '94', '58', '100']\n"
     ]
    }
   ],
   "source": [
    "import csv\n",
    "\n",
    "with open(\"學生成績1.csv\", mode='r',encoding=\"utf-8\",newline=\"\") as file:\n",
    "    pass\n",
    "    csvReader = csv.reader(file)\n",
    "    for row in csvReader:\n",
    "        print(row)\n",
    "    "
   ]
  },
  {
   "cell_type": "code",
   "execution_count": 3,
   "metadata": {},
   "outputs": [
    {
     "name": "stdout",
     "output_type": "stream",
     "text": [
      "['溫重意', '91', '74', '81', '54', '84']\n",
      "['王梅劭', '62', '76', '89', '75', '64']\n",
      "['蘇婷婷', '63', '87', '86', '55', '50']\n",
      "['王雅慧', '81', '62', '73', '99', '78']\n",
      "['陳樂紫', '70', '59', '58', '59', '76']\n",
      "['鄭琇亞', '58', '99', '87', '81', '69']\n",
      "['李湘婷', '67', '65', '94', '92', '82']\n",
      "['陳得映', '67', '84', '79', '70', '63']\n",
      "['游倫城', '83', '80', '60', '81', '87']\n",
      "['孫火清', '54', '66', '94', '58', '100']\n"
     ]
    }
   ],
   "source": [
    "with open(\"學生成績1.csv\", mode='r',encoding=\"utf-8\",newline=\"\") as file:\n",
    "    pass\n",
    "    csvReader = csv.reader(file)\n",
    "    next(csvReader)\n",
    "    for row in csvReader:\n",
    "        print(row)\n",
    "    "
   ]
  },
  {
   "cell_type": "code",
   "execution_count": 4,
   "metadata": {},
   "outputs": [
    {
     "data": {
      "text/plain": [
       "[['溫重意', '91', '74', '81', '54', '84'],\n",
       " ['王梅劭', '62', '76', '89', '75', '64'],\n",
       " ['蘇婷婷', '63', '87', '86', '55', '50'],\n",
       " ['王雅慧', '81', '62', '73', '99', '78'],\n",
       " ['陳樂紫', '70', '59', '58', '59', '76'],\n",
       " ['鄭琇亞', '58', '99', '87', '81', '69'],\n",
       " ['李湘婷', '67', '65', '94', '92', '82'],\n",
       " ['陳得映', '67', '84', '79', '70', '63'],\n",
       " ['游倫城', '83', '80', '60', '81', '87'],\n",
       " ['孫火清', '54', '66', '94', '58', '100']]"
      ]
     },
     "execution_count": 4,
     "metadata": {},
     "output_type": "execute_result"
    }
   ],
   "source": [
    "with open(\"學生成績1.csv\", mode='r',encoding=\"utf-8\",newline=\"\") as file:\n",
    "    pass\n",
    "    csvReader = csv.reader(file)\n",
    "    next(csvReader)\n",
    "   ## for row in csvReader:\n",
    "   ##     print(row)\n",
    "    students = list(csvReader)\n",
    "students"
   ]
  },
  {
   "cell_type": "code",
   "execution_count": 9,
   "metadata": {},
   "outputs": [
    {
     "name": "stdout",
     "output_type": "stream",
     "text": [
      "學生溫重意,國文:91\n",
      "學生王雅慧,國文:81\n",
      "學生游倫城,國文:83\n",
      "共有3學生\n"
     ]
    }
   ],
   "source": [
    "amount=0\n",
    "for student in students:\n",
    "    if int(student[1])>=80:\n",
    "        amount +=1\n",
    "        print(f'學生{student[0]},國文:{student[1]}')\n",
    "print(f'共有{amount}學生')\n",
    "            \n"
   ]
  }
 ],
 "metadata": {
  "kernelspec": {
   "display_name": "Python 3",
   "language": "python",
   "name": "python3"
  },
  "language_info": {
   "codemirror_mode": {
    "name": "ipython",
    "version": 3
   },
   "file_extension": ".py",
   "mimetype": "text/x-python",
   "name": "python",
   "nbconvert_exporter": "python",
   "pygments_lexer": "ipython3",
   "version": "3.10.12"
  },
  "orig_nbformat": 4
 },
 "nbformat": 4,
 "nbformat_minor": 2
}
