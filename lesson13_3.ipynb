{
 "cells": [
  {
   "cell_type": "code",
   "execution_count": 2,
   "metadata": {},
   "outputs": [
    {
     "name": "stdout",
     "output_type": "stream",
     "text": [
      "請輸入台灣手機號碼:(xxxx-xxx-xxx):your phone number is:1234-567-890\n"
     ]
    }
   ],
   "source": [
    "#檢查台灣手機號碼輸入格式\n",
    "\n",
    "import pyinputplus as pyip\n",
    "\n",
    "def isPhoneNumber(phone:str) -> bool:\n",
    "    return True\n",
    "\n",
    "phone_str = pyip.inputStr(\"請輸入台灣手機號碼:(xxxx-xxx-xxx):\")\n",
    "\n",
    "if isPhoneNumber(phone_str):\n",
    "    print(f\"your phone number is:{phone_str}\")\n",
    "else:\n",
    "    print(\"wrong format\")\n",
    "    "
   ]
  }
 ],
 "metadata": {
  "kernelspec": {
   "display_name": "Python 3",
   "language": "python",
   "name": "python3"
  },
  "language_info": {
   "codemirror_mode": {
    "name": "ipython",
    "version": 3
   },
   "file_extension": ".py",
   "mimetype": "text/x-python",
   "name": "python",
   "nbconvert_exporter": "python",
   "pygments_lexer": "ipython3",
   "version": "3.10.12"
  },
  "orig_nbformat": 4
 },
 "nbformat": 4,
 "nbformat_minor": 2
}
