{
 "cells": [
  {
   "cell_type": "code",
   "execution_count": 18,
   "metadata": {},
   "outputs": [],
   "source": [
    "class Student:\n",
    "    def __init__(self,name:str,ch:int, eng:int, math:int, geo:int, his:int):\n",
    "        #attribute\n",
    "        self.姓名 = name\n",
    "        self.國文 = ch\n",
    "        self.英文 = eng\n",
    "        self.數學 = math\n",
    "        self.地理 = geo\n",
    "        self.歷史 = his\n",
    "    \n",
    "    def __repr__(self) -> str:\n",
    "        return f'{self.姓名}的實體'\n",
    "    \n",
    "    #實體方法\n",
    "    def sum(self) -> int:\n",
    "        return self.國文 + self.英文 + self.數學 + self.地理 + self.歷史\n",
    "    \n",
    "    #實體方法\n",
    "    def average(self) -> float:\n",
    "        return round(self.sum()/ 5,ndigits=2)"
   ]
  },
  {
   "cell_type": "code",
   "execution_count": 19,
   "metadata": {},
   "outputs": [
    {
     "data": {
      "text/plain": [
       "[溫重意的實體,\n",
       " 王梅劭的實體,\n",
       " 蘇婷婷的實體,\n",
       " 王雅慧的實體,\n",
       " 陳樂紫的實體,\n",
       " 鄭琇亞的實體,\n",
       " 李湘婷的實體,\n",
       " 陳得映的實體,\n",
       " 游倫城的實體,\n",
       " 孫火清的實體]"
      ]
     },
     "execution_count": 19,
     "metadata": {},
     "output_type": "execute_result"
    }
   ],
   "source": [
    "import csv\n",
    "with open(\"學生成績1.csv\",encoding=\"utf-8\",newline='') as file:\n",
    "    dict_reader = csv.DictReader(file)\n",
    "    students = []\n",
    "    for student in dict_reader:\n",
    "        chinese = int(student['國文'])\n",
    "        english = int(student['英文'])\n",
    "        math = int(student['數學'])\n",
    "        geography = int(student['地理'])\n",
    "        history= int(student['歷史'])\n",
    "        student = Student(student['姓名'],\n",
    "                          ch=chinese,\n",
    "                          eng=english,\n",
    "                          math=math,\n",
    "                          geo=geography,\n",
    "                          his=history)\n",
    "        students.append(student)\n",
    "\n",
    "students"
   ]
  },
  {
   "cell_type": "code",
   "execution_count": 22,
   "metadata": {},
   "outputs": [
    {
     "name": "stdout",
     "output_type": "stream",
     "text": [
      "溫重意\n",
      "384\n",
      "平均:76.8\n",
      "======\n",
      "王梅劭\n",
      "366\n",
      "平均:73.2\n",
      "======\n",
      "蘇婷婷\n",
      "341\n",
      "平均:68.2\n",
      "======\n",
      "王雅慧\n",
      "393\n",
      "平均:78.6\n",
      "======\n",
      "陳樂紫\n",
      "322\n",
      "平均:64.4\n",
      "======\n",
      "鄭琇亞\n",
      "394\n",
      "平均:78.8\n",
      "======\n",
      "李湘婷\n",
      "400\n",
      "平均:80.0\n",
      "======\n",
      "陳得映\n",
      "363\n",
      "平均:72.6\n",
      "======\n",
      "游倫城\n",
      "391\n",
      "平均:78.2\n",
      "======\n",
      "孫火清\n",
      "372\n",
      "平均:74.4\n",
      "======\n"
     ]
    }
   ],
   "source": [
    "for stu in students:\n",
    "    print(stu.姓名)\n",
    "    print(stu.sum())\n",
    "    print(f'平均:{stu.average()}')\n",
    "    print(\"======\")"
   ]
  }
 ],
 "metadata": {
  "kernelspec": {
   "display_name": "Python 3",
   "language": "python",
   "name": "python3"
  },
  "language_info": {
   "codemirror_mode": {
    "name": "ipython",
    "version": 3
   },
   "file_extension": ".py",
   "mimetype": "text/x-python",
   "name": "python",
   "nbconvert_exporter": "python",
   "pygments_lexer": "ipython3",
   "version": "3.10.12"
  },
  "orig_nbformat": 4
 },
 "nbformat": 4,
 "nbformat_minor": 2
}
