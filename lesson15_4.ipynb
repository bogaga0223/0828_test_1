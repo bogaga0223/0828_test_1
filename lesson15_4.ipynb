{
 "cells": [
  {
   "cell_type": "code",
   "execution_count": 3,
   "metadata": {},
   "outputs": [
    {
     "ename": "ModuleNotFoundError",
     "evalue": "No module named 'numpy'",
     "output_type": "error",
     "traceback": [
      "\u001b[0;31m---------------------------------------------------------------------------\u001b[0m",
      "\u001b[0;31mModuleNotFoundError\u001b[0m                       Traceback (most recent call last)",
      "\u001b[1;32m/workspaces/0828_test_1/lesson15_4.ipynb 儲存格 1\u001b[0m line \u001b[0;36m1\n\u001b[0;32m----> <a href='vscode-notebook-cell://codespaces%2Bbookish-pancake-v6q5rw76r66fxwgv/workspaces/0828_test_1/lesson15_4.ipynb#W0sdnNjb2RlLXJlbW90ZQ%3D%3D?line=0'>1</a>\u001b[0m \u001b[39mimport\u001b[39;00m \u001b[39mnumpy\u001b[39;00m \u001b[39mas\u001b[39;00m \u001b[39mnp\u001b[39;00m\n\u001b[1;32m      <a href='vscode-notebook-cell://codespaces%2Bbookish-pancake-v6q5rw76r66fxwgv/workspaces/0828_test_1/lesson15_4.ipynb#W0sdnNjb2RlLXJlbW90ZQ%3D%3D?line=1'>2</a>\u001b[0m \u001b[39m#陣列運算\u001b[39;00m\n\u001b[1;32m      <a href='vscode-notebook-cell://codespaces%2Bbookish-pancake-v6q5rw76r66fxwgv/workspaces/0828_test_1/lesson15_4.ipynb#W0sdnNjb2RlLXJlbW90ZQ%3D%3D?line=2'>3</a>\u001b[0m oneArray \u001b[39m=\u001b[39m np\u001b[39m.\u001b[39marray([\u001b[39m1\u001b[39m,\u001b[39m2\u001b[39m,\u001b[39m3\u001b[39m,\u001b[39m4\u001b[39m,\u001b[39m5\u001b[39m])\n",
      "\u001b[0;31mModuleNotFoundError\u001b[0m: No module named 'numpy'"
     ]
    }
   ],
   "source": [
    "import numpy as np\n",
    "#陣列運算\n",
    "oneArray = np.array([1,2,3,4,5])\n",
    "oneArray*10/5"
   ]
  },
  {
   "cell_type": "code",
   "execution_count": 3,
   "metadata": {},
   "outputs": [
    {
     "data": {
      "text/plain": [
       "array([10, 10, 10, 10, 10])"
      ]
     },
     "execution_count": 3,
     "metadata": {},
     "output_type": "execute_result"
    }
   ],
   "source": [
    "twoArray = np.array([9,8,7,6,5])\n",
    "oneArray+twoArray"
   ]
  },
  {
   "cell_type": "code",
   "execution_count": 1,
   "metadata": {},
   "outputs": [
    {
     "ename": "NameError",
     "evalue": "name 'np' is not defined",
     "output_type": "error",
     "traceback": [
      "\u001b[0;31m---------------------------------------------------------------------------\u001b[0m",
      "\u001b[0;31mNameError\u001b[0m                                 Traceback (most recent call last)",
      "\u001b[1;32m/workspaces/0828_test_1/lesson15_4.ipynb 儲存格 3\u001b[0m line \u001b[0;36m2\n\u001b[1;32m      <a href='vscode-notebook-cell://codespaces%2Bbookish-pancake-v6q5rw76r66fxwgv/workspaces/0828_test_1/lesson15_4.ipynb#W2sdnNjb2RlLXJlbW90ZQ%3D%3D?line=0'>1</a>\u001b[0m \u001b[39m#統計\u001b[39;00m\n\u001b[0;32m----> <a href='vscode-notebook-cell://codespaces%2Bbookish-pancake-v6q5rw76r66fxwgv/workspaces/0828_test_1/lesson15_4.ipynb#W2sdnNjb2RlLXJlbW90ZQ%3D%3D?line=1'>2</a>\u001b[0m np\u001b[39m.\u001b[39msum(oneArray), np\u001b[39m.\u001b[39msum(twoArray)\n",
      "\u001b[0;31mNameError\u001b[0m: name 'np' is not defined"
     ]
    }
   ],
   "source": [
    "#統計\n",
    "np.sum(oneArray), np.sum(twoArray)"
   ]
  },
  {
   "cell_type": "code",
   "execution_count": 6,
   "metadata": {},
   "outputs": [
    {
     "data": {
      "text/plain": [
       "(array([0.        , 0.30103   , 0.47712125, 0.60205999, 0.69897   ]),\n",
       " array([0.95424251, 0.90308999, 0.84509804, 0.77815125, 0.69897   ]))"
      ]
     },
     "execution_count": 6,
     "metadata": {},
     "output_type": "execute_result"
    }
   ],
   "source": [
    "#科學運算\n",
    "np.log10(oneArray), np.log10(twoArray)"
   ]
  },
  {
   "cell_type": "code",
   "execution_count": 2,
   "metadata": {},
   "outputs": [
    {
     "ename": "NameError",
     "evalue": "name 'np' is not defined",
     "output_type": "error",
     "traceback": [
      "\u001b[0;31m---------------------------------------------------------------------------\u001b[0m",
      "\u001b[0;31mNameError\u001b[0m                                 Traceback (most recent call last)",
      "\u001b[1;32m/workspaces/0828_test_1/lesson15_4.ipynb 儲存格 5\u001b[0m line \u001b[0;36m1\n\u001b[0;32m----> <a href='vscode-notebook-cell://codespaces%2Bbookish-pancake-v6q5rw76r66fxwgv/workspaces/0828_test_1/lesson15_4.ipynb#W4sdnNjb2RlLXJlbW90ZQ%3D%3D?line=0'>1</a>\u001b[0m np\u001b[39m.\u001b[39mzeros(\u001b[39m10\u001b[39m)\n\u001b[1;32m      <a href='vscode-notebook-cell://codespaces%2Bbookish-pancake-v6q5rw76r66fxwgv/workspaces/0828_test_1/lesson15_4.ipynb#W4sdnNjb2RlLXJlbW90ZQ%3D%3D?line=1'>2</a>\u001b[0m \u001b[39m#快速建立二維資料\u001b[39;00m\n\u001b[1;32m      <a href='vscode-notebook-cell://codespaces%2Bbookish-pancake-v6q5rw76r66fxwgv/workspaces/0828_test_1/lesson15_4.ipynb#W4sdnNjb2RlLXJlbW90ZQ%3D%3D?line=2'>3</a>\u001b[0m np\u001b[39m.\u001b[39mzeros((\u001b[39m10\u001b[39m,\u001b[39m5\u001b[39m))\n",
      "\u001b[0;31mNameError\u001b[0m: name 'np' is not defined"
     ]
    }
   ],
   "source": [
    "np.zeros(10)\n",
    "#快速建立二維資料\n",
    "np.zeros((10,5))\n",
    "#快速建立三維資料\n",
    "np.zeros((10,5,3))\n"
   ]
  },
  {
   "cell_type": "code",
   "execution_count": 11,
   "metadata": {},
   "outputs": [
    {
     "data": {
      "text/plain": [
       "array([[ 1.        ,  1.18367347,  1.36734694,  1.55102041,  1.73469388,\n",
       "         1.91836735,  2.10204082,  2.28571429,  2.46938776,  2.65306122],\n",
       "       [ 2.83673469,  3.02040816,  3.20408163,  3.3877551 ,  3.57142857,\n",
       "         3.75510204,  3.93877551,  4.12244898,  4.30612245,  4.48979592],\n",
       "       [ 4.67346939,  4.85714286,  5.04081633,  5.2244898 ,  5.40816327,\n",
       "         5.59183673,  5.7755102 ,  5.95918367,  6.14285714,  6.32653061],\n",
       "       [ 6.51020408,  6.69387755,  6.87755102,  7.06122449,  7.24489796,\n",
       "         7.42857143,  7.6122449 ,  7.79591837,  7.97959184,  8.16326531],\n",
       "       [ 8.34693878,  8.53061224,  8.71428571,  8.89795918,  9.08163265,\n",
       "         9.26530612,  9.44897959,  9.63265306,  9.81632653, 10.        ]])"
      ]
     },
     "execution_count": 11,
     "metadata": {},
     "output_type": "execute_result"
    }
   ],
   "source": [
    "np.linspace(1,10,num=50).reshape(5,10)"
   ]
  }
 ],
 "metadata": {
  "kernelspec": {
   "display_name": "Python 3",
   "language": "python",
   "name": "python3"
  },
  "language_info": {
   "codemirror_mode": {
    "name": "ipython",
    "version": 3
   },
   "file_extension": ".py",
   "mimetype": "text/x-python",
   "name": "python",
   "nbconvert_exporter": "python",
   "pygments_lexer": "ipython3",
   "version": "3.10.13"
  },
  "orig_nbformat": 4
 },
 "nbformat": 4,
 "nbformat_minor": 2
}
