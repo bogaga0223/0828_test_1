{
 "cells": [
  {
   "cell_type": "code",
   "execution_count": 4,
   "metadata": {},
   "outputs": [],
   "source": [
    "import random\n",
    "\n",
    "def generate_stu()-> list[int]:\n",
    "    scores=[]\n",
    "    for i in range(5):\n",
    "        scores.append(random.randint(50,100))\n",
    "    return scores\n",
    "\n",
    "def getnames(num:int) -> list[str]:\n",
    "    with open(\"names.txt\", encoding=\"utf-8\") as file:\n",
    "        names=[]\n",
    "        for name in file:\n",
    "            names.append(name.rstrip())\n",
    "    return random.choices(names,k=num)"
   ]
  },
  {
   "cell_type": "code",
   "execution_count": 5,
   "metadata": {},
   "outputs": [
    {
     "name": "stdout",
     "output_type": "stream",
     "text": [
      "請輸入學生的人數:10\n"
     ]
    },
    {
     "data": {
      "text/plain": [
       "[['溫重意', 91, 74, 81, 54, 84],\n",
       " ['王梅劭', 62, 76, 89, 75, 64],\n",
       " ['蘇婷婷', 63, 87, 86, 55, 50],\n",
       " ['王雅慧', 81, 62, 73, 99, 78],\n",
       " ['陳樂紫', 70, 59, 58, 59, 76],\n",
       " ['鄭琇亞', 58, 99, 87, 81, 69],\n",
       " ['李湘婷', 67, 65, 94, 92, 82],\n",
       " ['陳得映', 67, 84, 79, 70, 63],\n",
       " ['游倫城', 83, 80, 60, 81, 87],\n",
       " ['孫火清', 54, 66, 94, 58, 100]]"
      ]
     },
     "execution_count": 5,
     "metadata": {},
     "output_type": "execute_result"
    }
   ],
   "source": [
    "import pyinputplus as pyip\n",
    "\n",
    "num=pyip.inputInt('請輸入學生的人數:', min=5, max = 50)\n",
    "print(num)\n",
    "names = getnames(num=num) #建立學生的姓名list\n",
    "students =[]\n",
    "for i in range(num):\n",
    "    scores = generate_stu() #建立學生的五個分數\n",
    "    scores.insert(0,names[i]) #將學生姓名加入至list內\n",
    "    students.append(scores)\n",
    "\n",
    "students"
   ]
  },
  {
   "cell_type": "code",
   "execution_count": 12,
   "metadata": {},
   "outputs": [
    {
     "name": "stdout",
     "output_type": "stream",
     "text": [
      "存檔成功\n"
     ]
    }
   ],
   "source": [
    "import csv\n",
    "\n",
    "with open(\"學生成績.csv\", mode='w',encoding='utf-8', newline='') as file:\n",
    "    csv_writer = csv.writer(file)\n",
    "    csv_writer.writerows(students)\n",
    "print(\"存檔成功\")"
   ]
  }
 ],
 "metadata": {
  "kernelspec": {
   "display_name": "Python 3",
   "language": "python",
   "name": "python3"
  },
  "language_info": {
   "codemirror_mode": {
    "name": "ipython",
    "version": 3
   },
   "file_extension": ".py",
   "mimetype": "text/x-python",
   "name": "python",
   "nbconvert_exporter": "python",
   "pygments_lexer": "ipython3",
   "version": "3.10.12"
  },
  "orig_nbformat": 4
 },
 "nbformat": 4,
 "nbformat_minor": 2
}
