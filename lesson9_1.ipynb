{
 "cells": [
  {
   "cell_type": "code",
   "execution_count": 2,
   "metadata": {},
   "outputs": [],
   "source": [
    "import random\n",
    "\n",
    "def generate_stu():\n",
    "    scores=[]\n",
    "    for i in range(5):\n",
    "        scores.append(random.randint(50,100))\n",
    "    return scores"
   ]
  },
  {
   "cell_type": "code",
   "execution_count": 3,
   "metadata": {},
   "outputs": [
    {
     "name": "stdout",
     "output_type": "stream",
     "text": [
      "請輸入學生的人數:"
     ]
    },
    {
     "data": {
      "text/plain": [
       "[[68, 90, 99, 94, 62],\n",
       " [89, 98, 72, 89, 85],\n",
       " [73, 88, 58, 68, 71],\n",
       " [90, 91, 73, 86, 65],\n",
       " [68, 74, 54, 94, 89],\n",
       " [81, 74, 97, 76, 88]]"
      ]
     },
     "execution_count": 3,
     "metadata": {},
     "output_type": "execute_result"
    }
   ],
   "source": [
    "import pyinputplus as pyip\n",
    "\n",
    "num=pyip.inputInt('請輸入學生的人數:', min=5, max = 50)\n",
    "students =[]\n",
    "for _ in range(num):\n",
    "    scores = generate_stu()\n",
    "    students.append(scores)\n",
    "\n",
    "students"
   ]
  }
 ],
 "metadata": {
  "kernelspec": {
   "display_name": "Python 3",
   "language": "python",
   "name": "python3"
  },
  "language_info": {
   "codemirror_mode": {
    "name": "ipython",
    "version": 3
   },
   "file_extension": ".py",
   "mimetype": "text/x-python",
   "name": "python",
   "nbconvert_exporter": "python",
   "pygments_lexer": "ipython3",
   "version": "3.10.12"
  },
  "orig_nbformat": 4
 },
 "nbformat": 4,
 "nbformat_minor": 2
}
