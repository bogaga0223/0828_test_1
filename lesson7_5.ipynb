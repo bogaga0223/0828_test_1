{
 "cells": [
  {
   "cell_type": "code",
   "execution_count": 19,
   "metadata": {},
   "outputs": [],
   "source": [
    "class student:\n",
    "    pass\n",
    "    def __init__(self,n,c,e,m): #自訂的初始化\n",
    "        self.name = n #attribute屬性\n",
    "        self.chinese = c\n",
    "        self.english = e\n",
    "        self.math = m\n",
    "\n",
    "    #實體的方法 一定要有self\n",
    "    def student_info(self):\n",
    "        print(\"name:\",self.name)\n",
    "        print(\"chinese:\",self.chinese)\n",
    "        print(\"english:\",self.english)\n",
    "        print(\"math:\", self.math)\n",
    "    \n",
    "    def sum(self):\n",
    "        return self.chinese + self.english + self.math\n",
    "    \n",
    "    def average(self):\n",
    "        return self.sum()/3\n",
    "    \n",
    "    #overwrite內建的__repr__(self)\n",
    "    def __repr__(self):\n",
    "        return f\"這是學生的實體\\n學生姓名是{self.name}\""
   ]
  },
  {
   "cell_type": "code",
   "execution_count": 20,
   "metadata": {},
   "outputs": [
    {
     "name": "stdout",
     "output_type": "stream",
     "text": [
      "name: aaa\n",
      "chinese: 78\n",
      "english: 56\n",
      "math: 34\n",
      "total: 168\n",
      "ave: 56.0\n",
      "這是學生的實體\n",
      "學生姓名是aaa\n",
      "======\n",
      "name: bbb\n",
      "chinese: 45\n",
      "english: 76\n",
      "math: 98\n",
      "total: 219\n",
      "ave: 73.0\n",
      "這是學生的實體\n",
      "學生姓名是bbb\n",
      "======\n",
      "name: ccc\n",
      "chinese: 56\n",
      "english: 90\n",
      "math: 76\n",
      "total: 222\n",
      "ave: 74.0\n",
      "這是學生的實體\n",
      "學生姓名是ccc\n",
      "======\n"
     ]
    }
   ],
   "source": [
    "stu1 = student(n=\"aaa\", c=78,e=56,m=34)\n",
    "stu1.student_info()\n",
    "print(\"total:\", stu1.sum())\n",
    "print(\"ave:\", stu1.average())\n",
    "print(stu1)\n",
    "print(\"======\")\n",
    "stu2 = student(n=\"bbb\", c=45,e=76,m=98)\n",
    "stu2.student_info()\n",
    "print(\"total:\", stu2.sum())\n",
    "print(\"ave:\", stu2.average())\n",
    "print(stu2)\n",
    "print(\"======\")\n",
    "stu3 = student(n=\"ccc\", c=56,e=90,m=76)\n",
    "stu3.student_info()\n",
    "print(\"total:\", stu3.sum())\n",
    "print(\"ave:\", stu3.average())\n",
    "print(stu3)\n",
    "print(\"======\")"
   ]
  }
 ],
 "metadata": {
  "kernelspec": {
   "display_name": "Python 3",
   "language": "python",
   "name": "python3"
  },
  "language_info": {
   "codemirror_mode": {
    "name": "ipython",
    "version": 3
   },
   "file_extension": ".py",
   "mimetype": "text/x-python",
   "name": "python",
   "nbconvert_exporter": "python",
   "pygments_lexer": "ipython3",
   "version": "3.10.12"
  },
  "orig_nbformat": 4
 },
 "nbformat": 4,
 "nbformat_minor": 2
}
