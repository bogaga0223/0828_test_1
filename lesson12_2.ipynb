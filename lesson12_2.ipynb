{
 "cells": [
  {
   "cell_type": "code",
   "execution_count": 4,
   "metadata": {},
   "outputs": [
    {
     "name": "stdout",
     "output_type": "stream",
     "text": [
      "1\n"
     ]
    }
   ],
   "source": [
    "try:\n",
    "    nums = int(input('請輸入整數'))\n",
    "except ValueError:\n",
    "    print(\"輸入錯誤\")\n",
    "else:\n",
    "    print(nums)"
   ]
  },
  {
   "cell_type": "code",
   "execution_count": 5,
   "metadata": {},
   "outputs": [
    {
     "name": "stdout",
     "output_type": "stream",
     "text": [
      "robert\n"
     ]
    }
   ],
   "source": [
    "import pyinputplus\n",
    "name =pyinputplus.inputStr()\n",
    "print(name)\n"
   ]
  },
  {
   "cell_type": "code",
   "execution_count": 6,
   "metadata": {},
   "outputs": [
    {
     "name": "stdout",
     "output_type": "stream",
     "text": [
      "請輸入整數:123\n"
     ]
    }
   ],
   "source": [
    "import pyinputplus as pyip\n",
    "nums = pyip.inputNum(\"請輸入整數:\")\n",
    "print(nums)\n"
   ]
  },
  {
   "cell_type": "code",
   "execution_count": 7,
   "metadata": {},
   "outputs": [
    {
     "data": {
      "text/plain": [
       "dict"
      ]
     },
     "execution_count": 7,
     "metadata": {},
     "output_type": "execute_result"
    }
   ],
   "source": [
    "empty_set = {} #這是建立dict\n",
    "type(empty_set)"
   ]
  },
  {
   "cell_type": "code",
   "execution_count": 8,
   "metadata": {},
   "outputs": [
    {
     "data": {
      "text/plain": [
       "{0, 2, 4, 6, 8, 10, 12}"
      ]
     },
     "execution_count": 8,
     "metadata": {},
     "output_type": "execute_result"
    }
   ],
   "source": [
    "even_numbers = {0,2,4,6,8,10}\n",
    "even_numbers.add(12)\n",
    "even_numbers"
   ]
  },
  {
   "cell_type": "code",
   "execution_count": 10,
   "metadata": {},
   "outputs": [
    {
     "name": "stdout",
     "output_type": "stream",
     "text": [
      "{3, 39, 9, 43, 44, 46, 22}\n"
     ]
    }
   ],
   "source": [
    "#撰寫一個大樂透自動選號程式，從1-49選七個不同的亂數\n",
    "#set裡面不能重複\n",
    "\n",
    "import random\n",
    "lotos = set()\n",
    "while len(lotos)<7:\n",
    "    lotos.add(random.randint(1,49))\n",
    "\n",
    "print(lotos)\n"
   ]
  },
  {
   "cell_type": "code",
   "execution_count": 18,
   "metadata": {},
   "outputs": [
    {
     "name": "stdout",
     "output_type": "stream",
     "text": [
      "本期大樂透號碼如下:\n",
      "36 37 4 9 15 26 \n",
      "特別號:27\n"
     ]
    }
   ],
   "source": [
    "import random\n",
    "lotos = set()\n",
    "while len(lotos)<7:\n",
    "    lotos.add(random.randint(1,49))\n",
    "\n",
    "lotos_list = list(lotos)\n",
    "lotos_list\n",
    "\n",
    "print(\"本期大樂透號碼如下:\")\n",
    "for num in lotos_list[:6]:\n",
    "    print(num,end=\" \")\n",
    "print() #換行\n",
    "print(f\"特別號:{lotos_list[-1]}\")\n"
   ]
  },
  {
   "cell_type": "code",
   "execution_count": 20,
   "metadata": {},
   "outputs": [
    {
     "name": "stdout",
     "output_type": "stream",
     "text": [
      "請輸入電腦選好的組數:(最多10組):2\n"
     ]
    }
   ],
   "source": [
    "import pyinputplus as pyip\n",
    "\n",
    "num = pyip.inputInt(\"請輸入電腦選好的組數:(最多10組):\", max=10)\n",
    "print(num)\n"
   ]
  },
  {
   "cell_type": "code",
   "execution_count": 21,
   "metadata": {},
   "outputs": [
    {
     "name": "stdout",
     "output_type": "stream",
     "text": [
      "請輸入電腦選好的組數:(最多10組):\n",
      "第1組\n",
      "1 40 10 16 49 22 \n",
      "特別號:28\n",
      "\n",
      "第2組\n",
      "2 6 10 42 48 49 \n",
      "特別號:24\n",
      "\n",
      "第3組\n",
      "37 7 8 41 10 44 \n",
      "特別號:49\n",
      "\n"
     ]
    }
   ],
   "source": [
    "import pyinputplus as pyip\n",
    "import random\n",
    "\n",
    "def generate_loto() -> list:\n",
    "    lotos = set()\n",
    "    while len(lotos)<7:\n",
    "        lotos.add(random.randint(1,49))\n",
    "    return list(lotos)\n",
    "\n",
    "num = pyip.inputInt(\"請輸入電腦選好的組數:(最多10組):\\n\", max=10)\n",
    "for i in range(num):\n",
    "    print(f\"第{i+1}組\")\n",
    "    lotos_list = generate_loto()\n",
    "    for num in lotos_list[:6]:\n",
    "        print(num,end=\" \")\n",
    "    print() #換行\n",
    "    print(f\"特別號:{lotos_list[-1]}\\n\")"
   ]
  }
 ],
 "metadata": {
  "kernelspec": {
   "display_name": "Python 3",
   "language": "python",
   "name": "python3"
  },
  "language_info": {
   "codemirror_mode": {
    "name": "ipython",
    "version": 3
   },
   "file_extension": ".py",
   "mimetype": "text/x-python",
   "name": "python",
   "nbconvert_exporter": "python",
   "pygments_lexer": "ipython3",
   "version": "3.10.12"
  },
  "orig_nbformat": 4
 },
 "nbformat": 4,
 "nbformat_minor": 2
}
