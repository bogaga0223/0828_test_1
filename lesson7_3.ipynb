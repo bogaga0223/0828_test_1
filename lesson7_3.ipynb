{
 "cells": [
  {
   "cell_type": "code",
   "execution_count": 5,
   "metadata": {},
   "outputs": [
    {
     "name": "stdout",
     "output_type": "stream",
     "text": [
      "<__main__.Student object at 0x7fb7a0765c90>\n",
      "<__main__.Student object at 0x7fb79c4ab220>\n",
      "<__main__.Student object at 0x7fb79c4a94e0>\n"
     ]
    }
   ],
   "source": [
    "#自訂的class\n",
    "\n",
    "class Student:\n",
    "    pass\n",
    "\n",
    "stu1 = Student()\n",
    "print(stu1)\n",
    "\n",
    "stu2 = Student()\n",
    "print(stu2)\n",
    "\n",
    "stu3 = Student()\n",
    "print(stu3)"
   ]
  },
  {
   "cell_type": "code",
   "execution_count": 6,
   "metadata": {},
   "outputs": [],
   "source": [
    "def student_info(student):\n",
    "    print(\"name:\",student.name)\n",
    "    print(\"chinese:\",student.chinese)\n",
    "    print(\"english:\",student.english)\n",
    "    print(\"math:\", student.math)\n"
   ]
  },
  {
   "cell_type": "code",
   "execution_count": 7,
   "metadata": {},
   "outputs": [
    {
     "name": "stdout",
     "output_type": "stream",
     "text": [
      "name: aaa\n",
      "chinese: 80\n",
      "english: 75\n",
      "math: 65\n"
     ]
    }
   ],
   "source": [
    "stu1.name = \"aaa\"\n",
    "stu1.chinese = 80\n",
    "stu1.english = 75\n",
    "stu1.math = 65\n",
    "\n",
    "student_info(stu1)"
   ]
  },
  {
   "cell_type": "code",
   "execution_count": 8,
   "metadata": {},
   "outputs": [
    {
     "name": "stdout",
     "output_type": "stream",
     "text": [
      "name: bbb\n",
      "chinese: 32\n",
      "english: 45\n",
      "math: 78\n"
     ]
    }
   ],
   "source": [
    "stu2.name = \"bbb\"\n",
    "stu2.chinese = 32\n",
    "stu2.english = 45\n",
    "stu2.math = 78\n",
    "student_info(stu2)"
   ]
  },
  {
   "cell_type": "code",
   "execution_count": 9,
   "metadata": {},
   "outputs": [
    {
     "name": "stdout",
     "output_type": "stream",
     "text": [
      "name: ccc\n",
      "chinese: 46\n",
      "english: 78\n",
      "math: 98\n"
     ]
    }
   ],
   "source": [
    "stu3.name = \"ccc\"\n",
    "stu3.chinese = 46\n",
    "stu3.english = 78\n",
    "stu3.math = 98\n",
    "student_info(stu3)"
   ]
  },
  {
   "cell_type": "code",
   "execution_count": null,
   "metadata": {},
   "outputs": [],
   "source": []
  }
 ],
 "metadata": {
  "kernelspec": {
   "display_name": "Python 3",
   "language": "python",
   "name": "python3"
  },
  "language_info": {
   "codemirror_mode": {
    "name": "ipython",
    "version": 3
   },
   "file_extension": ".py",
   "mimetype": "text/x-python",
   "name": "python",
   "nbconvert_exporter": "python",
   "pygments_lexer": "ipython3",
   "version": "3.10.12"
  },
  "orig_nbformat": 4
 },
 "nbformat": 4,
 "nbformat_minor": 2
}
