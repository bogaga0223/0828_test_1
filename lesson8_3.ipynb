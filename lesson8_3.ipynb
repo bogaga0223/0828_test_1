{
 "cells": [
  {
   "cell_type": "code",
   "execution_count": 1,
   "metadata": {},
   "outputs": [
    {
     "data": {
      "text/plain": [
       "[78, 92, 85, 36, 23]"
      ]
     },
     "execution_count": 1,
     "metadata": {},
     "output_type": "execute_result"
    }
   ],
   "source": [
    "stu1=[78,92,85,36,23]\n",
    "stu1"
   ]
  },
  {
   "cell_type": "code",
   "execution_count": 2,
   "metadata": {},
   "outputs": [
    {
     "data": {
      "text/plain": [
       "[34, 45, 56, 74, 34]"
      ]
     },
     "execution_count": 2,
     "metadata": {},
     "output_type": "execute_result"
    }
   ],
   "source": [
    "stu2=[]\n",
    "stu2.append(34)\n",
    "stu2.append(45)\n",
    "stu2.append(56)\n",
    "stu2.append(74)\n",
    "stu2.append(34)\n",
    "stu2"
   ]
  },
  {
   "cell_type": "code",
   "execution_count": 8,
   "metadata": {},
   "outputs": [
    {
     "data": {
      "text/plain": [
       "[76, 80, 100, 73, 61]"
      ]
     },
     "execution_count": 8,
     "metadata": {},
     "output_type": "execute_result"
    }
   ],
   "source": [
    "import random\n",
    "\n",
    "stu2=[]\n",
    "for i in range(5):\n",
    "    stu2.append(random.randint(50,100))\n",
    "stu2"
   ]
  },
  {
   "cell_type": "code",
   "execution_count": 13,
   "metadata": {},
   "outputs": [
    {
     "data": {
      "text/plain": [
       "[65, 95, 83, 65, 58]"
      ]
     },
     "execution_count": 13,
     "metadata": {},
     "output_type": "execute_result"
    }
   ],
   "source": [
    "def generate_stu():\n",
    "    scores=[]\n",
    "    for i in range(5):\n",
    "        scores.append(random.randint(50,100))\n",
    "    return scores\n",
    "\n",
    "generate_stu()"
   ]
  },
  {
   "cell_type": "code",
   "execution_count": 15,
   "metadata": {},
   "outputs": [
    {
     "data": {
      "text/plain": [
       "[[54, 63, 51, 67, 96],\n",
       " [80, 65, 57, 58, 100],\n",
       " [86, 79, 55, 78, 62],\n",
       " [50, 90, 63, 95, 74],\n",
       " [80, 97, 50, 79, 51],\n",
       " [58, 53, 52, 60, 90],\n",
       " [56, 74, 95, 55, 98],\n",
       " [56, 55, 71, 50, 80],\n",
       " [50, 57, 88, 65, 79],\n",
       " [97, 92, 93, 81, 69],\n",
       " [88, 63, 75, 82, 79],\n",
       " [52, 61, 73, 86, 90],\n",
       " [97, 60, 64, 85, 65],\n",
       " [50, 92, 96, 60, 72],\n",
       " [97, 61, 86, 62, 89],\n",
       " [94, 53, 63, 91, 100],\n",
       " [84, 50, 54, 84, 80],\n",
       " [64, 73, 84, 85, 90],\n",
       " [58, 85, 53, 93, 67],\n",
       " [72, 90, 50, 51, 60],\n",
       " [72, 93, 50, 73, 59],\n",
       " [88, 58, 89, 89, 77],\n",
       " [100, 74, 61, 55, 50],\n",
       " [71, 76, 58, 81, 82],\n",
       " [84, 86, 99, 97, 88],\n",
       " [81, 57, 61, 50, 90],\n",
       " [66, 89, 94, 71, 59],\n",
       " [96, 56, 75, 92, 94],\n",
       " [73, 55, 97, 75, 64],\n",
       " [91, 60, 82, 92, 77],\n",
       " [58, 60, 76, 75, 83],\n",
       " [77, 93, 76, 55, 75],\n",
       " [69, 98, 70, 80, 63],\n",
       " [92, 58, 74, 68, 69],\n",
       " [64, 69, 57, 72, 99],\n",
       " [51, 99, 87, 59, 84],\n",
       " [65, 100, 98, 50, 100],\n",
       " [94, 73, 72, 53, 83],\n",
       " [99, 80, 53, 86, 81],\n",
       " [97, 68, 68, 73, 90],\n",
       " [65, 50, 94, 87, 58],\n",
       " [90, 71, 72, 60, 53],\n",
       " [71, 61, 59, 90, 65],\n",
       " [78, 62, 84, 55, 71],\n",
       " [75, 87, 75, 67, 58],\n",
       " [97, 90, 64, 93, 57],\n",
       " [76, 91, 64, 74, 67],\n",
       " [63, 56, 61, 55, 79],\n",
       " [89, 69, 67, 98, 74],\n",
       " [75, 80, 63, 94, 77]]"
      ]
     },
     "execution_count": 15,
     "metadata": {},
     "output_type": "execute_result"
    }
   ],
   "source": [
    "#建立50個學生\n",
    "students =[]\n",
    "for _ in range(50):\n",
    "    scores = generate_stu()\n",
    "    students.append(scores)\n",
    "\n",
    "students"
   ]
  },
  {
   "cell_type": "code",
   "execution_count": 22,
   "metadata": {},
   "outputs": [
    {
     "name": "stdout",
     "output_type": "stream",
     "text": [
      "[[96, 72, 53, 90, 66], [93, 96, 51, 83, 55], [75, 55, 100, 83, 100], [97, 94, 58, 67, 78], [73, 93, 86, 72, 68], [99, 55, 62, 67, 88]]\n"
     ]
    }
   ],
   "source": [
    "#建立50個學生\n",
    "while True:\n",
    "    try:\n",
    "        num =int(input('請輸入學生的數目:'))\n",
    "    except:\n",
    "        print(\"格式錯誤\")\n",
    "    else:\n",
    "        if not (num>=5 and num<=50):\n",
    "            continue\n",
    "        \n",
    "        students =[]\n",
    "        for _ in range(num):\n",
    "            scores = generate_stu()\n",
    "            students.append(scores)\n",
    "\n",
    "        print(students)\n",
    "        break"
   ]
  },
  {
   "cell_type": "code",
   "execution_count": 28,
   "metadata": {},
   "outputs": [
    {
     "name": "stdout",
     "output_type": "stream",
     "text": [
      "請輸入學生的人數:Number must be at minimum 5.\n",
      "請輸入學生的人數:Number must be at maximum 50.\n",
      "請輸入學生的人數:Number must be at maximum 50.\n",
      "請輸入學生的人數:"
     ]
    },
    {
     "data": {
      "text/plain": [
       "[[66, 95, 70, 93, 54],\n",
       " [83, 85, 76, 57, 55],\n",
       " [58, 55, 87, 81, 69],\n",
       " [95, 79, 80, 76, 59],\n",
       " [95, 99, 80, 71, 81],\n",
       " [72, 50, 92, 80, 66]]"
      ]
     },
     "execution_count": 28,
     "metadata": {},
     "output_type": "execute_result"
    }
   ],
   "source": [
    "import pyinputplus as pyip\n",
    "\n",
    "num=pyip.inputInt('請輸入學生的人數:', min=5, max = 50)\n",
    "students =[]\n",
    "for _ in range(num):\n",
    "    scores = generate_stu()\n",
    "    students.append(scores)\n",
    "\n",
    "students"
   ]
  }
 ],
 "metadata": {
  "kernelspec": {
   "display_name": "Python 3",
   "language": "python",
   "name": "python3"
  },
  "language_info": {
   "codemirror_mode": {
    "name": "ipython",
    "version": 3
   },
   "file_extension": ".py",
   "mimetype": "text/x-python",
   "name": "python",
   "nbconvert_exporter": "python",
   "pygments_lexer": "ipython3",
   "version": "3.10.12"
  },
  "orig_nbformat": 4
 },
 "nbformat": 4,
 "nbformat_minor": 2
}
