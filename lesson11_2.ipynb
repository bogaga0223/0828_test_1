{
 "cells": [
  {
   "cell_type": "code",
   "execution_count": 1,
   "metadata": {},
   "outputs": [
    {
     "data": {
      "text/plain": [
       "[{'姓名': '溫重意', '國文': '91', '英文': '74', '數學': '81', '地理': '54', '歷史': '84'},\n",
       " {'姓名': '王梅劭', '國文': '62', '英文': '76', '數學': '89', '地理': '75', '歷史': '64'},\n",
       " {'姓名': '蘇婷婷', '國文': '63', '英文': '87', '數學': '86', '地理': '55', '歷史': '50'},\n",
       " {'姓名': '王雅慧', '國文': '81', '英文': '62', '數學': '73', '地理': '99', '歷史': '78'},\n",
       " {'姓名': '陳樂紫', '國文': '70', '英文': '59', '數學': '58', '地理': '59', '歷史': '76'},\n",
       " {'姓名': '鄭琇亞', '國文': '58', '英文': '99', '數學': '87', '地理': '81', '歷史': '69'},\n",
       " {'姓名': '李湘婷', '國文': '67', '英文': '65', '數學': '94', '地理': '92', '歷史': '82'},\n",
       " {'姓名': '陳得映', '國文': '67', '英文': '84', '數學': '79', '地理': '70', '歷史': '63'},\n",
       " {'姓名': '游倫城', '國文': '83', '英文': '80', '數學': '60', '地理': '81', '歷史': '87'},\n",
       " {'姓名': '孫火清', '國文': '54', '英文': '66', '數學': '94', '地理': '58', '歷史': '100'}]"
      ]
     },
     "execution_count": 1,
     "metadata": {},
     "output_type": "execute_result"
    }
   ],
   "source": [
    "import csv\n",
    "with open(\"學生成績1.csv\",encoding=\"utf-8\",newline='') as file:\n",
    "    dict_reader = csv.DictReader(file)\n",
    "    students = list(dict_reader)\n",
    "\n",
    "students\n"
   ]
  },
  {
   "cell_type": "code",
   "execution_count": 2,
   "metadata": {},
   "outputs": [
    {
     "data": {
      "text/plain": [
       "[{'姓名': '溫重意', '國文': 91, '英文': 74, '數學': 81, '地理': 54, '歷史': 84},\n",
       " {'姓名': '王梅劭', '國文': 62, '英文': 76, '數學': 89, '地理': 75, '歷史': 64},\n",
       " {'姓名': '蘇婷婷', '國文': 63, '英文': 87, '數學': 86, '地理': 55, '歷史': 50},\n",
       " {'姓名': '王雅慧', '國文': 81, '英文': 62, '數學': 73, '地理': 99, '歷史': 78},\n",
       " {'姓名': '陳樂紫', '國文': 70, '英文': 59, '數學': 58, '地理': 59, '歷史': 76},\n",
       " {'姓名': '鄭琇亞', '國文': 58, '英文': 99, '數學': 87, '地理': 81, '歷史': 69},\n",
       " {'姓名': '李湘婷', '國文': 67, '英文': 65, '數學': 94, '地理': 92, '歷史': 82},\n",
       " {'姓名': '陳得映', '國文': 67, '英文': 84, '數學': 79, '地理': 70, '歷史': 63},\n",
       " {'姓名': '游倫城', '國文': 83, '英文': 80, '數學': 60, '地理': 81, '歷史': 87},\n",
       " {'姓名': '孫火清', '國文': 54, '英文': 66, '數學': 94, '地理': 58, '歷史': 100}]"
      ]
     },
     "execution_count": 2,
     "metadata": {},
     "output_type": "execute_result"
    }
   ],
   "source": [
    "#字串轉成數字\n",
    "with open(\"學生成績1.csv\",encoding=\"utf-8\",newline='') as file:\n",
    "    dict_reader = csv.DictReader(file)\n",
    "    students = list(dict_reader)\n",
    "    for student in students:\n",
    "        student['國文']= int(student['國文'])\n",
    "        student['英文']= int(student['英文'])\n",
    "        student['數學']= int(student['數學'])\n",
    "        student['地理']= int(student['地理'])\n",
    "        student['歷史']= int(student['歷史'])\n",
    "students"
   ]
  },
  {
   "cell_type": "code",
   "execution_count": 5,
   "metadata": {},
   "outputs": [
    {
     "name": "stdout",
     "output_type": "stream",
     "text": [
      "溫重意\n",
      "總分是: 384\n",
      "average:76.8\n",
      "王梅劭\n",
      "總分是: 366\n",
      "average:73.2\n",
      "蘇婷婷\n",
      "總分是: 341\n",
      "average:68.2\n",
      "王雅慧\n",
      "總分是: 393\n",
      "average:78.6\n",
      "陳樂紫\n",
      "總分是: 322\n",
      "average:64.4\n",
      "鄭琇亞\n",
      "總分是: 394\n",
      "average:78.8\n",
      "李湘婷\n",
      "總分是: 400\n",
      "average:80.0\n",
      "陳得映\n",
      "總分是: 363\n",
      "average:72.6\n",
      "游倫城\n",
      "總分是: 391\n",
      "average:78.2\n",
      "孫火清\n",
      "總分是: 372\n",
      "average:74.4\n"
     ]
    }
   ],
   "source": [
    "for stu in students:\n",
    "    print(stu['姓名'])\n",
    "    sum = stu['國文'] + stu['英文'] + stu['數學'] + stu['地理'] + stu['歷史']\n",
    "    print(f\"總分是: {sum}\")\n",
    "    print(f\"average:{sum/5:.1f}\")"
   ]
  }
 ],
 "metadata": {
  "kernelspec": {
   "display_name": "Python 3",
   "language": "python",
   "name": "python3"
  },
  "language_info": {
   "codemirror_mode": {
    "name": "ipython",
    "version": 3
   },
   "file_extension": ".py",
   "mimetype": "text/x-python",
   "name": "python",
   "nbconvert_exporter": "python",
   "pygments_lexer": "ipython3",
   "version": "3.10.12"
  },
  "orig_nbformat": 4
 },
 "nbformat": 4,
 "nbformat_minor": 2
}
