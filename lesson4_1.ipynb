{
 "cells": [
  {
   "cell_type": "code",
   "execution_count": 5,
   "metadata": {},
   "outputs": [
    {
     "name": "stdout",
     "output_type": "stream",
     "text": [
      "True\n"
     ]
    },
    {
     "data": {
      "text/plain": [
       "False"
      ]
     },
     "execution_count": 5,
     "metadata": {},
     "output_type": "execute_result"
    }
   ],
   "source": [
    "x=7\n",
    "print(x==7)\n",
    "\n",
    "x<5"
   ]
  },
  {
   "cell_type": "code",
   "execution_count": 13,
   "metadata": {},
   "outputs": [
    {
     "name": "stdout",
     "output_type": "stream",
     "text": [
      "及格\n"
     ]
    }
   ],
   "source": [
    "scores = float (input (\"請輸入分數：\"))\n",
    "if scores >60:\n",
    "    print(\"及格\")\n",
    "else:\n",
    "    print(\"不及格\")"
   ]
  },
  {
   "cell_type": "code",
   "execution_count": 21,
   "metadata": {},
   "outputs": [
    {
     "name": "stdout",
     "output_type": "stream",
     "text": [
      "200\n",
      "200\n"
     ]
    }
   ],
   "source": [
    "scores = int(input(\"scores\"))\n",
    "is_add = input(\"add point? (y/n)\")\n",
    "if (is_add == \"y\"):\n",
    "    scores *=1.05\n",
    "    if scores > 200:\n",
    "        scores = 200\n",
    "\n",
    "print(scores)\n",
    "print(round(scores))"
   ]
  },
  {
   "cell_type": "code",
   "execution_count": 27,
   "metadata": {},
   "outputs": [
    {
     "name": "stdout",
     "output_type": "stream",
     "text": [
      "<60\n"
     ]
    }
   ],
   "source": [
    "scores = 60\n",
    "if scores >60:\n",
    "    if scores <=80:\n",
    "        print(\"60~80\")\n",
    "    else:\n",
    "        print(\">80\")\n",
    "else:\n",
    "    print(\"<60\")\n",
    "\n"
   ]
  },
  {
   "cell_type": "code",
   "execution_count": 30,
   "metadata": {},
   "outputs": [
    {
     "name": "stdout",
     "output_type": "stream",
     "text": [
      "<60\n"
     ]
    }
   ],
   "source": [
    "scores = 55\n",
    "if scores >=60 and scores <=80:\n",
    "    print(\"60~80\")\n",
    "else:\n",
    "    if scores <60:\n",
    "        print(\"<60\")\n",
    "    else:\n",
    "        print(\">80\")"
   ]
  }
 ],
 "metadata": {
  "kernelspec": {
   "display_name": "Python 3",
   "language": "python",
   "name": "python3"
  },
  "language_info": {
   "codemirror_mode": {
    "name": "ipython",
    "version": 3
   },
   "file_extension": ".py",
   "mimetype": "text/x-python",
   "name": "python",
   "nbconvert_exporter": "python",
   "pygments_lexer": "ipython3",
   "version": "3.10.12"
  },
  "orig_nbformat": 4
 },
 "nbformat": 4,
 "nbformat_minor": 2
}
